{
 "cells": [
  {
   "cell_type": "markdown",
   "metadata": {},
   "source": [
    "# Multinomial Regression"
   ]
  },
  {
   "cell_type": "code",
   "execution_count": 1,
   "metadata": {
    "ExecuteTime": {
     "end_time": "2020-04-27T08:17:12.193902Z",
     "start_time": "2020-04-27T08:17:11.493171Z"
    }
   },
   "outputs": [],
   "source": [
    "import pandas as pd\n",
    "import statsmodels.api as sm"
   ]
  },
  {
   "cell_type": "markdown",
   "metadata": {},
   "source": [
    "## Loading Data\n",
    "\n",
    "In this activity, we will work with the 'abalone' dataset, which is in this repo as a .csv file"
   ]
  },
  {
   "cell_type": "code",
   "execution_count": 2,
   "metadata": {
    "ExecuteTime": {
     "end_time": "2020-04-27T08:17:16.596033Z",
     "start_time": "2020-04-27T08:17:16.586871Z"
    }
   },
   "outputs": [
    {
     "data": {
      "text/html": [
       "<div>\n",
       "<style scoped>\n",
       "    .dataframe tbody tr th:only-of-type {\n",
       "        vertical-align: middle;\n",
       "    }\n",
       "\n",
       "    .dataframe tbody tr th {\n",
       "        vertical-align: top;\n",
       "    }\n",
       "\n",
       "    .dataframe thead th {\n",
       "        text-align: right;\n",
       "    }\n",
       "</style>\n",
       "<table border=\"1\" class=\"dataframe\">\n",
       "  <thead>\n",
       "    <tr style=\"text-align: right;\">\n",
       "      <th></th>\n",
       "      <th>Sex</th>\n",
       "      <th>Length</th>\n",
       "      <th>Diameter</th>\n",
       "      <th>Height</th>\n",
       "      <th>Whole_weight</th>\n",
       "      <th>Shucked_weight</th>\n",
       "      <th>Viscera_weight</th>\n",
       "      <th>Shell_weight</th>\n",
       "      <th>Rings</th>\n",
       "    </tr>\n",
       "  </thead>\n",
       "  <tbody>\n",
       "    <tr>\n",
       "      <th>0</th>\n",
       "      <td>M</td>\n",
       "      <td>0.455</td>\n",
       "      <td>0.365</td>\n",
       "      <td>0.095</td>\n",
       "      <td>0.5140</td>\n",
       "      <td>0.2245</td>\n",
       "      <td>0.1010</td>\n",
       "      <td>0.150</td>\n",
       "      <td>15</td>\n",
       "    </tr>\n",
       "    <tr>\n",
       "      <th>1</th>\n",
       "      <td>M</td>\n",
       "      <td>0.350</td>\n",
       "      <td>0.265</td>\n",
       "      <td>0.090</td>\n",
       "      <td>0.2255</td>\n",
       "      <td>0.0995</td>\n",
       "      <td>0.0485</td>\n",
       "      <td>0.070</td>\n",
       "      <td>7</td>\n",
       "    </tr>\n",
       "    <tr>\n",
       "      <th>2</th>\n",
       "      <td>F</td>\n",
       "      <td>0.530</td>\n",
       "      <td>0.420</td>\n",
       "      <td>0.135</td>\n",
       "      <td>0.6770</td>\n",
       "      <td>0.2565</td>\n",
       "      <td>0.1415</td>\n",
       "      <td>0.210</td>\n",
       "      <td>9</td>\n",
       "    </tr>\n",
       "    <tr>\n",
       "      <th>3</th>\n",
       "      <td>M</td>\n",
       "      <td>0.440</td>\n",
       "      <td>0.365</td>\n",
       "      <td>0.125</td>\n",
       "      <td>0.5160</td>\n",
       "      <td>0.2155</td>\n",
       "      <td>0.1140</td>\n",
       "      <td>0.155</td>\n",
       "      <td>10</td>\n",
       "    </tr>\n",
       "    <tr>\n",
       "      <th>4</th>\n",
       "      <td>I</td>\n",
       "      <td>0.330</td>\n",
       "      <td>0.255</td>\n",
       "      <td>0.080</td>\n",
       "      <td>0.2050</td>\n",
       "      <td>0.0895</td>\n",
       "      <td>0.0395</td>\n",
       "      <td>0.055</td>\n",
       "      <td>7</td>\n",
       "    </tr>\n",
       "  </tbody>\n",
       "</table>\n",
       "</div>"
      ],
      "text/plain": [
       "  Sex  Length  Diameter  Height  Whole_weight  Shucked_weight  Viscera_weight  \\\n",
       "0   M   0.455     0.365   0.095        0.5140          0.2245          0.1010   \n",
       "1   M   0.350     0.265   0.090        0.2255          0.0995          0.0485   \n",
       "2   F   0.530     0.420   0.135        0.6770          0.2565          0.1415   \n",
       "3   M   0.440     0.365   0.125        0.5160          0.2155          0.1140   \n",
       "4   I   0.330     0.255   0.080        0.2050          0.0895          0.0395   \n",
       "\n",
       "   Shell_weight  Rings  \n",
       "0         0.150     15  \n",
       "1         0.070      7  \n",
       "2         0.210      9  \n",
       "3         0.155     10  \n",
       "4         0.055      7  "
      ]
     },
     "execution_count": 2,
     "metadata": {},
     "output_type": "execute_result"
    }
   ],
   "source": [
    "data = pd.read_csv(\"abalone.csv\")\n",
    "data.head()"
   ]
  },
  {
   "cell_type": "markdown",
   "metadata": {},
   "source": [
    "## Fitting a Multinomial Regression Model"
   ]
  },
  {
   "cell_type": "markdown",
   "metadata": {},
   "source": [
    "We are going to fit a model to determine which characteristics of our abalone are significantly different between adult males (M), adult females (F), and infants (I)\n",
    "\n",
    "The Sex column is therefore our dependent variable, which we will denote as `y`, and `X` will be our independent variables (everything else)"
   ]
  },
  {
   "cell_type": "code",
   "execution_count": 3,
   "metadata": {},
   "outputs": [],
   "source": [
    "X = data[data.columns[~data.columns.isin(['Sex'])]]\n",
    "y = data['Sex']"
   ]
  },
  {
   "cell_type": "markdown",
   "metadata": {},
   "source": [
    "The snippet below fits our model. `sm.MNLogit` is a multinomial logistic regression (classifier with multiple independent variables), and we fit this on our dependent `y` and our independent `sm.add_constant(X)` (`X` plus a column of 1s to add an intercept)"
   ]
  },
  {
   "cell_type": "code",
   "execution_count": 4,
   "metadata": {},
   "outputs": [],
   "source": [
    "mn = sm.MNLogit(y,sm.add_constant(X))"
   ]
  },
  {
   "cell_type": "code",
   "execution_count": 5,
   "metadata": {},
   "outputs": [
    {
     "name": "stdout",
     "output_type": "stream",
     "text": [
      "Optimization terminated successfully.\n",
      "         Current function value: 0.854590\n",
      "         Iterations 8\n",
      "                          MNLogit Regression Results                          \n",
      "==============================================================================\n",
      "Dep. Variable:                    Sex   No. Observations:                 4177\n",
      "Model:                        MNLogit   Df Residuals:                     4159\n",
      "Method:                           MLE   Df Model:                           16\n",
      "Date:                Wed, 17 Apr 2024   Pseudo R-squ.:                  0.2204\n",
      "Time:                        21:13:18   Log-Likelihood:                -3569.6\n",
      "converged:                       True   LL-Null:                       -4578.9\n",
      "Covariance Type:            nonrobust   LLR p-value:                     0.000\n",
      "==================================================================================\n",
      "         Sex=I       coef    std err          z      P>|z|      [0.025      0.975]\n",
      "----------------------------------------------------------------------------------\n",
      "const              2.8410      0.505      5.627      0.000       1.851       3.831\n",
      "Length            17.6817      2.864      6.174      0.000      12.069      23.295\n",
      "Diameter         -13.0489      3.526     -3.700      0.000     -19.960      -6.137\n",
      "Height            -8.1076      3.447     -2.352      0.019     -14.864      -1.351\n",
      "Whole_weight      -6.3995      1.728     -3.703      0.000      -9.787      -3.012\n",
      "Shucked_weight     5.2464      1.972      2.661      0.008       1.382       9.111\n",
      "Viscera_weight   -13.2179      2.653     -4.983      0.000     -18.417      -8.019\n",
      "Shell_weight       5.5951      2.506      2.233      0.026       0.684      10.506\n",
      "Rings             -0.1967      0.026     -7.498      0.000      -0.248      -0.145\n",
      "----------------------------------------------------------------------------------\n",
      "         Sex=M       coef    std err          z      P>|z|      [0.025      0.975]\n",
      "----------------------------------------------------------------------------------\n",
      "const              2.5212      0.432      5.838      0.000       1.675       3.368\n",
      "Length            -1.0157      1.953     -0.520      0.603      -4.844       2.813\n",
      "Diameter          -4.9630      2.355     -2.107      0.035      -9.579      -0.347\n",
      "Height            -3.1768      1.964     -1.617      0.106      -7.026       0.673\n",
      "Whole_weight      -0.1314      0.737     -0.178      0.858      -1.576       1.313\n",
      "Shucked_weight     3.0484      0.884      3.450      0.001       1.317       4.780\n",
      "Viscera_weight    -2.1665      1.283     -1.689      0.091      -4.680       0.347\n",
      "Shell_weight       0.4747      1.131      0.420      0.675      -1.741       2.691\n",
      "Rings              0.0059      0.016      0.379      0.705      -0.025       0.037\n",
      "==================================================================================\n"
     ]
    }
   ],
   "source": [
    "model = mn.fit()\n",
    "print_model = model.summary()\n",
    "print(print_model)"
   ]
  },
  {
   "cell_type": "markdown",
   "metadata": {},
   "source": [
    "The statsmodels module's output has K-1 equations (in this case two equations, since we have three classes), which show coefficients for each group as compared against a reference group. \n",
    "\n",
    "In this example, the reference group was chosen to be Female (it is alphabetical by default). The first set of results corresponds to Infant vs Female - we can see Sex = I in the top left. If a result is significant ($p< 0.05$) in this output, that means it is statisitically different between the two groups.\n",
    "The second set of outputs corresponds to Sex = M, so it is looking for differences between adult Females and adult Males.\n",
    "\n",
    "**Note**: As we have set it up, this model does not make direct comparison between Males and Infants. We could calculate this directly, but it would require a fair bit of work. Instead, if we are interested in making this comparison, we could re-run the model while specifying a different baseline. To do this, we manually set the order using `pandas`. If we run the snippet below before data splitting, Male would become the default, as it is the 'first' category. \n",
    "\n",
    "`data['Sex'] = pd.Categorical(data['Sex'], categories=['M', 'F', 'I'], ordered=True)`\n"
   ]
  },
  {
   "cell_type": "markdown",
   "metadata": {},
   "source": [
    "## Accessing Model Parameters\n",
    "\n",
    "In statsmodels, the `fit()` method returns a `Result` object. The model coefficients, standard errors, p-values, etc., are all available from this Result object.\n",
    "\n",
    "These are conveniently stored as Pandas dataframes with the parameter name as the dataframe index. This allows us to programmitcally access the values in the summary above if we need them for downstream calculations."
   ]
  },
  {
   "cell_type": "code",
   "execution_count": 15,
   "metadata": {},
   "outputs": [
    {
     "data": {
      "text/html": [
       "<div>\n",
       "<style scoped>\n",
       "    .dataframe tbody tr th:only-of-type {\n",
       "        vertical-align: middle;\n",
       "    }\n",
       "\n",
       "    .dataframe tbody tr th {\n",
       "        vertical-align: top;\n",
       "    }\n",
       "\n",
       "    .dataframe thead th {\n",
       "        text-align: right;\n",
       "    }\n",
       "</style>\n",
       "<table border=\"1\" class=\"dataframe\">\n",
       "  <thead>\n",
       "    <tr style=\"text-align: right;\">\n",
       "      <th></th>\n",
       "      <th>I vs F</th>\n",
       "      <th>M vs F</th>\n",
       "    </tr>\n",
       "  </thead>\n",
       "  <tbody>\n",
       "    <tr>\n",
       "      <th>const</th>\n",
       "      <td>2.840995</td>\n",
       "      <td>2.521223</td>\n",
       "    </tr>\n",
       "    <tr>\n",
       "      <th>Length</th>\n",
       "      <td>17.681684</td>\n",
       "      <td>-1.015661</td>\n",
       "    </tr>\n",
       "    <tr>\n",
       "      <th>Diameter</th>\n",
       "      <td>-13.048868</td>\n",
       "      <td>-4.962977</td>\n",
       "    </tr>\n",
       "    <tr>\n",
       "      <th>Height</th>\n",
       "      <td>-8.107566</td>\n",
       "      <td>-3.176845</td>\n",
       "    </tr>\n",
       "    <tr>\n",
       "      <th>Whole_weight</th>\n",
       "      <td>-6.399546</td>\n",
       "      <td>-0.131395</td>\n",
       "    </tr>\n",
       "    <tr>\n",
       "      <th>Shucked_weight</th>\n",
       "      <td>5.246396</td>\n",
       "      <td>3.048409</td>\n",
       "    </tr>\n",
       "    <tr>\n",
       "      <th>Viscera_weight</th>\n",
       "      <td>-13.217943</td>\n",
       "      <td>-2.166477</td>\n",
       "    </tr>\n",
       "    <tr>\n",
       "      <th>Shell_weight</th>\n",
       "      <td>5.595137</td>\n",
       "      <td>0.474669</td>\n",
       "    </tr>\n",
       "    <tr>\n",
       "      <th>Rings</th>\n",
       "      <td>-0.196681</td>\n",
       "      <td>0.005943</td>\n",
       "    </tr>\n",
       "  </tbody>\n",
       "</table>\n",
       "</div>"
      ],
      "text/plain": [
       "                   I vs F    M vs F\n",
       "const            2.840995  2.521223\n",
       "Length          17.681684 -1.015661\n",
       "Diameter       -13.048868 -4.962977\n",
       "Height          -8.107566 -3.176845\n",
       "Whole_weight    -6.399546 -0.131395\n",
       "Shucked_weight   5.246396  3.048409\n",
       "Viscera_weight -13.217943 -2.166477\n",
       "Shell_weight     5.595137  0.474669\n",
       "Rings           -0.196681  0.005943"
      ]
     },
     "execution_count": 15,
     "metadata": {},
     "output_type": "execute_result"
    }
   ],
   "source": [
    "params = model.params\n",
    "\n",
    "# column names are not defined by default\n",
    "params.columns = [\"I vs F\", \"M vs F\"]\n",
    "\n",
    "params\n"
   ]
  },
  {
   "cell_type": "markdown",
   "metadata": {},
   "source": [
    "Here are some of the relevant attribute values for a Logistic Regression.\n",
    "\n",
    "\n",
    "|Attr/func|Description|\n",
    "| ------------- |-------------|\n",
    "|params|Estimated model parameters. Appears as coef when calling summary() on a fitted model|\n",
    "|bse|Standard error|\n",
    "|tvalues|A coefficient's t-statistic|\n",
    "|pvalues|The model's p-value|\n",
    "|conf_int(alpha)|Method that calculates the confidence interval for the estimated parameters. To call: model.conf_int(0.05)|\n",
    "\n"
   ]
  },
  {
   "cell_type": "markdown",
   "metadata": {},
   "source": [
    "## Evaluating Multinomial Regression Model\n",
    "\n",
    "So what do all these numbers mean, physically?\n",
    "\n",
    "Two Ways to Assess:\n",
    "\n",
    "1. Examine the model output for individual variables\n",
    "2. Use .pred_table() method for overall model fit"
   ]
  },
  {
   "cell_type": "markdown",
   "metadata": {},
   "source": [
    "### The Model Output Coefficients\n",
    "\n",
    "The coefficients in the model output represent the log of ratios between two probabilities: the probability of belonging to a group of interest vs. the probability of belonging to the reference group. \n",
    "\n",
    "> Note: before making any physical interpretation about the effect of a variable, we should check that the p-value is less than our threshold $\\alpha$ (i.e. 0.05)\n",
    "\n",
    "For example, the coefficient for `Length` between Infants and Females is 17.7. This means for each unit increase in length, the sample is $e^{17.7}$ times more likely to belong to the class of interest. \n",
    "\n",
    "But wait! That makes no sense, why is a longer abalone so much more likely to be an infant? What's going on? \n",
    "\n",
    "Firstly, a unit increase in `length` is a BIG deal. Looking at the actual values in our `length` column, the mean is 0.52, with a standard deviation of 0.12. Suddenly increasing by 1.0 would be a huge deal - if we added that to the average abalone (0.52, now 1.52) it would be almost twice the length of the largest observed (0.82). So it makes sense that this would have a huge effect on the odds, especially if there is actually a big difference in length between Females and Infants.\n"
   ]
  },
  {
   "cell_type": "code",
   "execution_count": 7,
   "metadata": {},
   "outputs": [
    {
     "data": {
      "text/plain": [
       "count    4177.000000\n",
       "mean        0.523992\n",
       "std         0.120093\n",
       "min         0.075000\n",
       "25%         0.450000\n",
       "50%         0.545000\n",
       "75%         0.615000\n",
       "max         0.815000\n",
       "Name: Length, dtype: float64"
      ]
     },
     "execution_count": 7,
     "metadata": {},
     "output_type": "execute_result"
    }
   ],
   "source": [
    "data['Length'].describe()"
   ]
  },
  {
   "cell_type": "markdown",
   "metadata": {},
   "source": [
    "That still doesn't explain the sign though - why is a longer abalone more likely to be infant? Aren't females bigger?"
   ]
  },
  {
   "cell_type": "code",
   "execution_count": 8,
   "metadata": {},
   "outputs": [
    {
     "data": {
      "text/plain": [
       "Sex\n",
       "F    0.579093\n",
       "I    0.427746\n",
       "M    0.561391\n",
       "Name: Length, dtype: float64"
      ]
     },
     "execution_count": 8,
     "metadata": {},
     "output_type": "execute_result"
    }
   ],
   "source": [
    "data.groupby('Sex')['Length'].mean()"
   ]
  },
  {
   "cell_type": "markdown",
   "metadata": {},
   "source": [
    "They are! But the key thing to remember is that this coefficient assumes that the `length` value is increasing by 1.0 with **EVERYTHING ELSE THE SAME**.\n",
    "\n",
    "Is this realistic? No! How is an abalone going to get much longer without increasing its other dimensions and weight? If we look at the coefficients related to other features like `viscera weight` and `diameter`, we see large negative values, indicating that increases in these values mean an example is much more likely to be Female.\n",
    "\n",
    "Because so many of these features are dependent/ related to eachother, only when adding them up into the full model and allowing positives and negative coefficients to cancel do we get a full reasonable prediction of the `Sex`.\n",
    "\n",
    "What do we do with the information given with this larger `length` coefficient then? We can interpret it that Infants are long and skinny *relative to their size*, so if an abalone is longer without being correspondingly wide and heavy, thats a sign that it might be an Infant.\n",
    "\n",
    "Importantly, if we don't have access to the other information, and we were only predicting based on the size, we would get a different result. "
   ]
  },
  {
   "cell_type": "code",
   "execution_count": 9,
   "metadata": {},
   "outputs": [
    {
     "name": "stdout",
     "output_type": "stream",
     "text": [
      "Optimization terminated successfully.\n",
      "         Current function value: 0.925998\n",
      "         Iterations 6\n",
      "                          MNLogit Regression Results                          \n",
      "==============================================================================\n",
      "Dep. Variable:                    Sex   No. Observations:                 4177\n",
      "Model:                        MNLogit   Df Residuals:                     4173\n",
      "Method:                           MLE   Df Model:                            2\n",
      "Date:                Wed, 17 Apr 2024   Pseudo R-squ.:                  0.1553\n",
      "Time:                        21:13:18   Log-Likelihood:                -3867.9\n",
      "converged:                       True   LL-Null:                       -4578.9\n",
      "Covariance Type:            nonrobust   LLR p-value:                1.624e-309\n",
      "==============================================================================\n",
      "     Sex=I       coef    std err          z      P>|z|      [0.025      0.975]\n",
      "------------------------------------------------------------------------------\n",
      "const          7.1382      0.264     26.997      0.000       6.620       7.656\n",
      "Length       -13.9170      0.501    -27.796      0.000     -14.898     -12.936\n",
      "------------------------------------------------------------------------------\n",
      "     Sex=M       coef    std err          z      P>|z|      [0.025      0.975]\n",
      "------------------------------------------------------------------------------\n",
      "const          1.4010      0.245      5.729      0.000       0.922       1.880\n",
      "Length        -2.1823      0.423     -5.161      0.000      -3.011      -1.354\n",
      "==============================================================================\n"
     ]
    }
   ],
   "source": [
    "X = data['Length']\n",
    "lr = sm.MNLogit(y,sm.add_constant(X))\n",
    "small_model = lr.fit()\n",
    "print_model = small_model.summary()\n",
    "print(print_model)"
   ]
  },
  {
   "cell_type": "markdown",
   "metadata": {},
   "source": [
    "In this version of the model that includes only `length`, a longer abalone is much less likely to be an `infant` - which makes sense, because our only indicator of overall size here is `length` - we don't include the confounding variables related to width and weight. Our model with many covariates allows us to capture a more complex view of the differences - like how infants seem overall to be small, but long and skinny. "
   ]
  },
  {
   "cell_type": "markdown",
   "metadata": {},
   "source": [
    "### The Prediction Table\n",
    "\n",
    "The prediction table is a 'confusion matrix', which shows the distribution of the actual classes versus the predicted classes.\n",
    "\n",
    "This allows us to empirically assess the model's predictive accuracy, as well as the types of errors it makes. In a perfect model, all examples would fall along the diagonal, indicating they have been classified correctly. \n",
    "\n",
    "The raw prediction table output looks like this:"
   ]
  },
  {
   "cell_type": "code",
   "execution_count": 10,
   "metadata": {},
   "outputs": [
    {
     "data": {
      "text/plain": [
       "array([[ 449.,  215.,  643.],\n",
       "       [  69., 1108.,  165.],\n",
       "       [ 385.,  351.,  792.]])"
      ]
     },
     "execution_count": 10,
     "metadata": {},
     "output_type": "execute_result"
    }
   ],
   "source": [
    "pred_table = model.pred_table()\n",
    "pred_table"
   ]
  },
  {
   "cell_type": "markdown",
   "metadata": {},
   "source": [
    "We can enhance this for clarity:"
   ]
  },
  {
   "cell_type": "code",
   "execution_count": 11,
   "metadata": {},
   "outputs": [
    {
     "data": {
      "text/html": [
       "<div>\n",
       "<style scoped>\n",
       "    .dataframe tbody tr th:only-of-type {\n",
       "        vertical-align: middle;\n",
       "    }\n",
       "\n",
       "    .dataframe tbody tr th {\n",
       "        vertical-align: top;\n",
       "    }\n",
       "\n",
       "    .dataframe thead th {\n",
       "        text-align: right;\n",
       "    }\n",
       "</style>\n",
       "<table border=\"1\" class=\"dataframe\">\n",
       "  <thead>\n",
       "    <tr style=\"text-align: right;\">\n",
       "      <th></th>\n",
       "      <th>female</th>\n",
       "      <th>infant</th>\n",
       "      <th>male</th>\n",
       "    </tr>\n",
       "  </thead>\n",
       "  <tbody>\n",
       "    <tr>\n",
       "      <th>female</th>\n",
       "      <td>449.0</td>\n",
       "      <td>215.0</td>\n",
       "      <td>643.0</td>\n",
       "    </tr>\n",
       "    <tr>\n",
       "      <th>infant</th>\n",
       "      <td>69.0</td>\n",
       "      <td>1108.0</td>\n",
       "      <td>165.0</td>\n",
       "    </tr>\n",
       "    <tr>\n",
       "      <th>male</th>\n",
       "      <td>385.0</td>\n",
       "      <td>351.0</td>\n",
       "      <td>792.0</td>\n",
       "    </tr>\n",
       "  </tbody>\n",
       "</table>\n",
       "</div>"
      ],
      "text/plain": [
       "        female  infant   male\n",
       "female   449.0   215.0  643.0\n",
       "infant    69.0  1108.0  165.0\n",
       "male     385.0   351.0  792.0"
      ]
     },
     "execution_count": 11,
     "metadata": {},
     "output_type": "execute_result"
    }
   ],
   "source": [
    "# check that this matches the category order\n",
    "# alphabetical by default if you haven't changed it\n",
    "categories = ['female', 'infant', 'male'] \n",
    "\n",
    "labeled_pred_table = pd.DataFrame(pred_table, index=categories, columns=categories)\n",
    "\n",
    "labeled_pred_table"
   ]
  },
  {
   "cell_type": "markdown",
   "metadata": {},
   "source": [
    "By default, the rows represent the actual classes, and the columns correspond to the predicted classes.\n",
    "\n",
    "We can interpret row by row how the model is doing.\n",
    "\n",
    "For females (first row), we can see the model is not doing a very good job, as we see more females are predicted as males than correctly as females, with an overall accuracy of $\\frac{449}{449+215+643} = 0.34$ for females.\n",
    "\n",
    "For infants (second row), the model is quite effective, as the large majority of infants are correctly identified, with an accuracy of $\\frac{1108}{69+1108+165} = 0.83$ for infants.\n",
    "\n",
    "For males (final row), the model performance is poor, though not as poor as for females. Males seem to be mistaken for females and infants at an equal rate, with an accuracy of $\\frac{792}{792+351+385} = 0.52$ for males.\n",
    "\n",
    "We can make an educated guess at physical interpretation of this output. Infants are likely much smaller than adults, resulting in accurate predictions on small individuals. The sexual dimorphism is likely limited, with males and females being similar, resulting in a high degree of confusion between them. Males are likely slightly smaller than females, because they are more often mistaken for infants.\n",
    "\n",
    "Looking at the average values of our features, this provides support of this explanation:"
   ]
  },
  {
   "cell_type": "code",
   "execution_count": 12,
   "metadata": {},
   "outputs": [
    {
     "data": {
      "text/html": [
       "<div>\n",
       "<style scoped>\n",
       "    .dataframe tbody tr th:only-of-type {\n",
       "        vertical-align: middle;\n",
       "    }\n",
       "\n",
       "    .dataframe tbody tr th {\n",
       "        vertical-align: top;\n",
       "    }\n",
       "\n",
       "    .dataframe thead th {\n",
       "        text-align: right;\n",
       "    }\n",
       "</style>\n",
       "<table border=\"1\" class=\"dataframe\">\n",
       "  <thead>\n",
       "    <tr style=\"text-align: right;\">\n",
       "      <th></th>\n",
       "      <th>Length</th>\n",
       "      <th>Diameter</th>\n",
       "      <th>Height</th>\n",
       "      <th>Whole_weight</th>\n",
       "      <th>Shucked_weight</th>\n",
       "      <th>Viscera_weight</th>\n",
       "      <th>Shell_weight</th>\n",
       "      <th>Rings</th>\n",
       "    </tr>\n",
       "    <tr>\n",
       "      <th>Sex</th>\n",
       "      <th></th>\n",
       "      <th></th>\n",
       "      <th></th>\n",
       "      <th></th>\n",
       "      <th></th>\n",
       "      <th></th>\n",
       "      <th></th>\n",
       "      <th></th>\n",
       "    </tr>\n",
       "  </thead>\n",
       "  <tbody>\n",
       "    <tr>\n",
       "      <th>F</th>\n",
       "      <td>0.579093</td>\n",
       "      <td>0.454732</td>\n",
       "      <td>0.158011</td>\n",
       "      <td>1.046532</td>\n",
       "      <td>0.446188</td>\n",
       "      <td>0.230689</td>\n",
       "      <td>0.302010</td>\n",
       "      <td>11.129304</td>\n",
       "    </tr>\n",
       "    <tr>\n",
       "      <th>I</th>\n",
       "      <td>0.427746</td>\n",
       "      <td>0.326494</td>\n",
       "      <td>0.107996</td>\n",
       "      <td>0.431363</td>\n",
       "      <td>0.191035</td>\n",
       "      <td>0.092010</td>\n",
       "      <td>0.128182</td>\n",
       "      <td>7.890462</td>\n",
       "    </tr>\n",
       "    <tr>\n",
       "      <th>M</th>\n",
       "      <td>0.561391</td>\n",
       "      <td>0.439287</td>\n",
       "      <td>0.151381</td>\n",
       "      <td>0.991459</td>\n",
       "      <td>0.432946</td>\n",
       "      <td>0.215545</td>\n",
       "      <td>0.281969</td>\n",
       "      <td>10.705497</td>\n",
       "    </tr>\n",
       "  </tbody>\n",
       "</table>\n",
       "</div>"
      ],
      "text/plain": [
       "       Length  Diameter    Height  Whole_weight  Shucked_weight  \\\n",
       "Sex                                                               \n",
       "F    0.579093  0.454732  0.158011      1.046532        0.446188   \n",
       "I    0.427746  0.326494  0.107996      0.431363        0.191035   \n",
       "M    0.561391  0.439287  0.151381      0.991459        0.432946   \n",
       "\n",
       "     Viscera_weight  Shell_weight      Rings  \n",
       "Sex                                           \n",
       "F          0.230689      0.302010  11.129304  \n",
       "I          0.092010      0.128182   7.890462  \n",
       "M          0.215545      0.281969  10.705497  "
      ]
     },
     "execution_count": 12,
     "metadata": {},
     "output_type": "execute_result"
    }
   ],
   "source": [
    "data.groupby('Sex').mean()"
   ]
  }
 ],
 "metadata": {
  "kernelspec": {
   "display_name": "Python 3.9.7 ('base')",
   "language": "python",
   "name": "python3"
  },
  "language_info": {
   "codemirror_mode": {
    "name": "ipython",
    "version": 3
   },
   "file_extension": ".py",
   "mimetype": "text/x-python",
   "name": "python",
   "nbconvert_exporter": "python",
   "pygments_lexer": "ipython3",
   "version": "3.10.6"
  },
  "toc": {
   "base_numbering": 1,
   "nav_menu": {},
   "number_sections": true,
   "sideBar": true,
   "skip_h1_title": false,
   "title_cell": "Table of Contents",
   "title_sidebar": "Contents",
   "toc_cell": false,
   "toc_position": {},
   "toc_section_display": true,
   "toc_window_display": false
  },
  "varInspector": {
   "cols": {
    "lenName": 16,
    "lenType": 16,
    "lenVar": 40
   },
   "kernels_config": {
    "python": {
     "delete_cmd_postfix": "",
     "delete_cmd_prefix": "del ",
     "library": "var_list.py",
     "varRefreshCmd": "print(var_dic_list())"
    },
    "r": {
     "delete_cmd_postfix": ") ",
     "delete_cmd_prefix": "rm(",
     "library": "var_list.r",
     "varRefreshCmd": "cat(var_dic_list()) "
    }
   },
   "types_to_exclude": [
    "module",
    "function",
    "builtin_function_or_method",
    "instance",
    "_Feature"
   ],
   "window_display": false
  },
  "vscode": {
   "interpreter": {
    "hash": "b6e0f8a12803683744c861614f716ee6d7b4737375095190f9e58ed1bf7efce1"
   }
  }
 },
 "nbformat": 4,
 "nbformat_minor": 4
}
